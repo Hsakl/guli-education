{
 "cells": [
  {
   "cell_type": "markdown",
   "metadata": {},
   "source": [
    "# LFM梯度下降算法实现"
   ]
  },
  {
   "cell_type": "markdown",
   "metadata": {},
   "source": [
    "### 0.引入依赖"
   ]
  },
  {
   "cell_type": "code",
   "execution_count": 1,
   "metadata": {},
   "outputs": [],
   "source": [
    "import numpy as np\n",
    "import pandas as pd"
   ]
  },
  {
   "cell_type": "markdown",
   "metadata": {},
   "source": [
    "### 1.数据准备"
   ]
  },
  {
   "cell_type": "code",
   "execution_count": 2,
   "metadata": {},
   "outputs": [
    {
     "data": {
      "text/plain": [
       "(6, 5)"
      ]
     },
     "execution_count": 2,
     "metadata": {},
     "output_type": "execute_result"
    }
   ],
   "source": [
    "# 评分矩阵R\n",
    "R = np.array([[4,0,2,0,1],\n",
    "             [0,2,3,0,0],\n",
    "             [1,0,2,4,0],\n",
    "             [5,0,0,3,1],\n",
    "             [0,0,1,5,1],\n",
    "             [0,3,2,4,1],])\n",
    "R.shape"
   ]
  },
  {
   "cell_type": "markdown",
   "metadata": {},
   "source": [
    "### 2.算法实现"
   ]
  },
  {
   "cell_type": "code",
   "execution_count": 35,
   "metadata": {},
   "outputs": [],
   "source": [
    "\"\"\"\n",
    "@输入参数：\n",
    "R：M*N的评分矩阵\n",
    "K：隐特征向量个数\n",
    "max_iter：最大迭代次数\n",
    "alpha：步长\n",
    "lamda：正则化系数\n",
    "\n",
    "@输出：\n",
    "分解之后的P,Q\n",
    "P：初始化用户特征矩阵M*K\n",
    "Q：初始化物品特征矩阵N*K\n",
    "\"\"\"\n",
    "\n",
    "# 给定超参数\n",
    "\n",
    "K = 6\n",
    "max_iter = 10000\n",
    "alpha = 0.0002\n",
    "lamda = 0.004\n",
    "\n",
    "# 核心算法\n",
    "def LFM_grad_desc( R, K=2, max_iter=5000, alpha=0.0002, lamda=0.004 ):\n",
    "    # 基本维度参数定义\n",
    "    M = len(R)\n",
    "    N = len(R[0])\n",
    "    \n",
    "    # P,Q初始值，随机生成\n",
    "    P = np.random.rand(M, K)\n",
    "    Q = np.random.rand(N, K)\n",
    "    Q = Q.T\n",
    "    \n",
    "    # 开始迭代\n",
    "    for step in range(max_iter):\n",
    "        # 对所有的用户u、物品i做遍历，对应的特征向量Pu、Qi梯度下降\n",
    "        for u in range(M):\n",
    "            for i in range(N):\n",
    "                # 对于每一个大于0的评分，求出预测评分误差\n",
    "                if R[u][i] > 0:\n",
    "                    # np.dot进行矩阵乘法\n",
    "                    eui = np.dot( P[u,:], Q[:, i] ) - R[u][i]\n",
    "                    \n",
    "                    # 代入公式，按照梯度下降算法更新当前的Pu、Qi\n",
    "                    for k in range(K):\n",
    "                        P[u][k] = P[u][k] - alpha * ( 2 * eui * Q[k][i] + 2 * lamda * P[u][k] )\n",
    "                        Q[k][i] = Q[k][i] - alpha * ( 2 * eui * P[u][k] + 2 * lamda * Q[k][i] )\n",
    "                        \n",
    "        # u、i遍历完成，所有特征向量更新完成，可以得到P、Q，可以计算预测评分矩阵\n",
    "        predR = np.dot( P, Q)\n",
    "        \n",
    "        # 计算当前损失函数\n",
    "        cost = 0\n",
    "        for u in range(M):\n",
    "            for i in range(N):\n",
    "                if R[u][i] > 0:\n",
    "                    cost += ( np.dot( P[u,:], Q[:, i] ) - R[u][i] ) ** 2\n",
    "                    # 加上正则化项\n",
    "                    cost += lamda * ( P[u][k] ** 2 + Q[k][i] ** 2 )\n",
    "        if cost < 0.1:\n",
    "            break\n",
    "    \n",
    "    return P, Q.T, cost, step "
   ]
  },
  {
   "cell_type": "markdown",
   "metadata": {},
   "source": [
    "### 3.测试"
   ]
  },
  {
   "cell_type": "code",
   "execution_count": 36,
   "metadata": {},
   "outputs": [
    {
     "name": "stdout",
     "output_type": "stream",
     "text": [
      "[[ 0.58678566  0.32794164  0.61001654  0.44239642  0.57602086  1.17729519]\n",
      " [ 0.53598457 -0.20911505  0.81103993  1.23931466  0.09367375  0.84705587]\n",
      " [ 0.48091102  0.07621352  0.64006243  1.31784204  0.67896993 -0.23582967]\n",
      " [ 0.58767646  1.13881579  0.80862256  0.01330657  0.1045656   1.15910329]\n",
      " [ 1.55980846  0.64099245  0.47493694  0.58518662  0.66559264  0.28395723]\n",
      " [ 0.67452929  0.74009205  1.03958596  0.45631781  0.46792046  0.81089193]]\n",
      "[[ 0.78524738  1.35204309  0.90333624  0.06131946  0.46210453  1.90639036]\n",
      " [ 0.58203517  0.92852173  0.94993802  0.38250799  0.36223519  0.71458859]\n",
      " [-0.23491313 -0.15789805  0.91695812  1.2887486   0.05835643  0.86808713]\n",
      " [ 1.54769692  0.67092453  0.90448597  1.49446735  1.09250867  0.39789664]\n",
      " [ 0.01486813  0.56109535 -0.15224288  0.51790276  0.42255408  0.36480225]]\n",
      "0.11878565023499447\n",
      "9999\n",
      "[[4 0 2 0 1]\n",
      " [0 2 3 0 0]\n",
      " [1 0 2 4 0]\n",
      " [5 0 0 3 1]\n",
      " [0 0 1 5 1]\n",
      " [0 3 2 4 1]]\n"
     ]
    },
    {
     "data": {
      "text/plain": [
       "array([[3.99290673, 2.44466564, 1.99548171, 3.43883843, 1.00185848],\n",
       "       [2.60488999, 2.00150781, 2.98874849, 3.71431085, 0.75759515],\n",
       "       [1.0038507 , 1.54020339, 1.99517282, 3.99178212, 0.8358527 ],\n",
       "       [4.99049702, 3.0388541 , 1.45305685, 3.00032061, 0.9985345 ],\n",
       "       [3.40530269, 2.62205169, 1.007366  , 4.98843575, 0.99845044],\n",
       "       [4.25949026, 2.99083014, 1.99725186, 3.99661412, 0.9968868 ]])"
      ]
     },
     "execution_count": 36,
     "metadata": {},
     "output_type": "execute_result"
    }
   ],
   "source": [
    "P, Q, cost, step = LFM_grad_desc(R, K, max_iter, alpha, lamda)\n",
    "print(P)\n",
    "print(Q)\n",
    "print(cost)\n",
    "print(step)\n",
    "\n",
    "predR = P.dot(Q.T)\n",
    "\n",
    "print(R)\n",
    "predR"
   ]
  },
  {
   "cell_type": "markdown",
   "metadata": {},
   "source": [
    "### 4.结果误差记录\n",
    "****************************\n",
    "| 隐特征向量个数K | 误差cost | 迭代次数step |\n",
    "| :-------------: | :------- | :----------: |\n",
    "| 2 | 0.57409404603735 | 9999 |\n",
    "| 5 | 0.1010729862839729 | 9999 |\n",
    "| 6 | 0.09997733414883572 | 4516 |\n",
    "| 7 | 0.0999904870901497 | 4644 |"
   ]
  }
 ],
 "metadata": {
  "kernelspec": {
   "display_name": "Python 3",
   "language": "python",
   "name": "python3"
  },
  "language_info": {
   "codemirror_mode": {
    "name": "ipython",
    "version": 3
   },
   "file_extension": ".py",
   "mimetype": "text/x-python",
   "name": "python",
   "nbconvert_exporter": "python",
   "pygments_lexer": "ipython3",
   "version": "3.8.5"
  }
 },
 "nbformat": 4,
 "nbformat_minor": 4
}
