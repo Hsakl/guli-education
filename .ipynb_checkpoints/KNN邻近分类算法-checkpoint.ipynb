{
 "cells": [
  {
   "cell_type": "code",
   "execution_count": 2,
   "metadata": {},
   "outputs": [
    {
     "name": "stdout",
     "output_type": "stream",
     "text": [
      "数据量 (150, 4)\n",
      "预测结果 [0 2 0 0 2 0 2 1 1 1 2 2 2 1 0 1 2 2 0 1 1 2 1 0 0 0 2 1 2 0]\n",
      "预测准确率 0.9333333333333333\n"
     ]
    }
   ],
   "source": [
    "# KNN调用\n",
    "import numpy as np\n",
    "from sklearn import datasets\n",
    "from sklearn.neighbors import KNeighborsClassifier\n",
    "from sklearn.model_selection import train_test_split\n",
    "from sklearn import datasets\n",
    "# 导入鸢尾花数据并查看数据特征\n",
    "iris = datasets.load_iris()\n",
    "print('数据量',iris.data.shape)\n",
    "# 拆分属性数据\n",
    "iris_X = iris.data\n",
    "# 拆分类别数据\n",
    "iris_y = iris.target\n",
    "# 方法一：拆分测试集和训练集,并进行预测\n",
    "iris_train_X , iris_test_X, iris_train_y ,iris_test_y = train_test_split(iris_X, iris_y, test_size=0.2,random_state=0)\n",
    "# knn = KNeighborsClassifier(n_neighbors=3)\n",
    "# knn.fit(iris_train_X, iris_train_y)\n",
    "# knn.predict(iris_test_X)\n",
    "# 方法二：拆分测试集和训练集\n",
    "np.random.seed(0)\n",
    "# permutation随机生成0-150的系列\n",
    "indices = np.random.permutation(len(iris_y))\n",
    "iris_X_train = iris_X[indices[:-30]]\n",
    "iris_y_train = iris_y[indices[:-30]]\n",
    "iris_X_test = iris_X[indices[-30:]]\n",
    "iris_y_test = iris_y[indices[-30:]]\n",
    "knn = KNeighborsClassifier()\n",
    "# 提供训练集进行顺利\n",
    "knn.fit(iris_X_train, iris_y_train)\n",
    "# 预测测试集鸢尾花类型\n",
    "predict_result = knn.predict(iris_X_test)\n",
    "print('预测结果',predict_result)\n",
    "# 计算预测的准确率\n",
    "print('预测准确率', knn.score(iris_X_test, iris_y_test))\n",
    "\n",
    "# 输出结果\n",
    "# \"D:\\anaconda python\\python3.6.exe\" D:/machine_learning/coding/knntest.py\n",
    "# 数据量 (150, 4)\n",
    "# 预测结果 [0 2 0 0 2 0 2 1 1 1 2 2 2 1 0 1 2 2 0 1 1 2 1 0 0 0 2 1 2 0]\n",
    "# 预测准确率 0.933333333333\n",
    "# Process finished with exit code 0"
   ]
  }
 ],
 "metadata": {
  "kernelspec": {
   "display_name": "Python 3",
   "language": "python",
   "name": "python3"
  },
  "language_info": {
   "codemirror_mode": {
    "name": "ipython",
    "version": 3
   },
   "file_extension": ".py",
   "mimetype": "text/x-python",
   "name": "python",
   "nbconvert_exporter": "python",
   "pygments_lexer": "ipython3",
   "version": "3.8.5"
  }
 },
 "nbformat": 4,
 "nbformat_minor": 4
}
